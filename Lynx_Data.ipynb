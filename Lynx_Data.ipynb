{
 "cells": [
  {
   "cell_type": "code",
   "execution_count": 18,
   "metadata": {},
   "outputs": [],
   "source": [
    "import pandas as pd\n",
    "mylynx_df = pd.read_csv(\"LYNXdata.csv\", header=0,names=['year', 'trappings'], parse_dates=[0], index_col=0)\n",
    "\n"
   ]
  },
  {
   "cell_type": "code",
   "execution_count": 19,
   "metadata": {},
   "outputs": [
    {
     "data": {
      "text/plain": [
       "pandas.core.frame.DataFrame"
      ]
     },
     "execution_count": 19,
     "metadata": {},
     "output_type": "execute_result"
    }
   ],
   "source": [
    "type(mylynx_df)"
   ]
  },
  {
   "cell_type": "code",
   "execution_count": 20,
   "metadata": {},
   "outputs": [
    {
     "data": {
      "text/plain": [
       "year\n",
       "1821-01-01     269\n",
       "1822-01-01     321\n",
       "1823-01-01     585\n",
       "1824-01-01     871\n",
       "1825-01-01    1475\n",
       "              ... \n",
       "1930-01-01     662\n",
       "1931-01-01    1000\n",
       "1932-01-01    1590\n",
       "1933-01-01    2657\n",
       "1934-01-01    3396\n",
       "Name: trappings, Length: 114, dtype: int64"
      ]
     },
     "execution_count": 20,
     "metadata": {},
     "output_type": "execute_result"
    }
   ],
   "source": [
    "mylynx_df.trappings"
   ]
  },
  {
   "cell_type": "code",
   "execution_count": 21,
   "metadata": {},
   "outputs": [
    {
     "data": {
      "text/plain": [
       "pandas.core.series.Series"
      ]
     },
     "execution_count": 21,
     "metadata": {},
     "output_type": "execute_result"
    }
   ],
   "source": [
    "mylynx_ts_simple = mylynx_df['trappings']\n",
    "type(mylynx_ts_simple)\n"
   ]
  },
  {
   "cell_type": "code",
   "execution_count": 22,
   "metadata": {},
   "outputs": [
    {
     "data": {
      "text/plain": [
       "year\n",
       "1821-01-01     269\n",
       "1822-01-01     321\n",
       "1823-01-01     585\n",
       "1824-01-01     871\n",
       "1825-01-01    1475\n",
       "Name: trappings, dtype: int64"
      ]
     },
     "execution_count": 22,
     "metadata": {},
     "output_type": "execute_result"
    }
   ],
   "source": [
    "mylynx_ts_simple.head()"
   ]
  },
  {
   "cell_type": "code",
   "execution_count": 23,
   "metadata": {},
   "outputs": [
    {
     "data": {
      "text/plain": [
       "1821-12-31     269\n",
       "1822-12-31     321\n",
       "1823-12-31     585\n",
       "1824-12-31     871\n",
       "1825-12-31    1475\n",
       "              ... \n",
       "1930-12-31     662\n",
       "1931-12-31    1000\n",
       "1932-12-31    1590\n",
       "1933-12-31    2657\n",
       "1934-12-31    3396\n",
       "Freq: A-DEC, Length: 114, dtype: int64"
      ]
     },
     "execution_count": 23,
     "metadata": {},
     "output_type": "execute_result"
    }
   ],
   "source": [
    "mylynxts = pd.Series(mylynx_df['trappings'].values,index = pd.date_range('31/12/1821',\n",
    "                                                                         periods=114,\n",
    "                                                                         freq ='A-DEC'))\n",
    "\n",
    "mylynxts"
   ]
  },
  {
   "cell_type": "code",
   "execution_count": null,
   "metadata": {},
   "outputs": [],
   "source": []
  },
  {
   "cell_type": "code",
   "execution_count": 29,
   "metadata": {},
   "outputs": [],
   "source": [
    "def stationarity_test(timeseries):\n",
    "    \"\"\"\"\"Augmented Dickey-Fuller Test\n",
    "    Test for Stationarity\"\"\"\n",
    "    from statsmodels.tsa.stattools import adfuller\n",
    "    print(\"Results of Dickey-Fuller Test:\")\n",
    "    df_test =adfuller(timeseries, autolag = \"AIC\")\n",
    "    df_output = pd.Series(df_test[0:4],\n",
    "                       index =[\"Test Satistic\", \"p-value\",\"#Lags Used\",\"Number of Observations Used\"])\n",
    "    print(df_output)\n",
    "    \n",
    " \n",
    "    "
   ]
  },
  {
   "cell_type": "code",
   "execution_count": 30,
   "metadata": {},
   "outputs": [
    {
     "name": "stdout",
     "output_type": "stream",
     "text": [
      "Results of Dickey-Fuller Test:\n",
      "Test Satistic                   -2.996304\n",
      "p-value                          0.035241\n",
      "#Lags Used                       7.000000\n",
      "Number of Observations Used    106.000000\n",
      "dtype: float64\n"
     ]
    }
   ],
   "source": [
    "   \n",
    "stationarity_test(mylynxts)\n"
   ]
  },
  {
   "cell_type": "code",
   "execution_count": 34,
   "metadata": {},
   "outputs": [
    {
     "name": "stdout",
     "output_type": "stream",
     "text": [
      "Results of Dickey-Fuller Test:\n",
      "Test Satistic                 -1.108113e+01\n",
      "p-value                        4.308667e-20\n",
      "#Lags Used                     1.000000e+00\n",
      "Number of Observations Used    2.980000e+02\n",
      "dtype: float64\n"
     ]
    }
   ],
   "source": [
    "import numpy as np\n",
    "import matplotlib.pyplot as plt\n",
    "stationarity_test(np.random.normal(1,3,300))\n"
   ]
  },
  {
   "cell_type": "code",
   "execution_count": 36,
   "metadata": {},
   "outputs": [
    {
     "data": {
      "text/plain": [
       "[<matplotlib.lines.Line2D at 0x7f3433a58110>]"
      ]
     },
     "execution_count": 36,
     "metadata": {},
     "output_type": "execute_result"
    },
    {
     "data": {
      "image/png": "[encoded data removed]",
      "text/plain": [
       "<Figure size 432x288 with 1 Axes>"
      ]
     },
     "metadata": {
      "needs_background": "light"
     },
     "output_type": "display_data"
    }
   ],
   "source": [
    "plt.plot(np.random.normal(1,3,300))\n"
   ]
  },
  {
   "cell_type": "code",
   "execution_count": 38,
   "metadata": {},
   "outputs": [
    {
     "name": "stdout",
     "output_type": "stream",
     "text": [
      "Results of Dickey-Fuller Test:\n",
      "Test Satistic                  42.200457\n",
      "p-value                         1.000000\n",
      "#Lags Used                      3.000000\n",
      "Number of Observations Used     7.000000\n",
      "dtype: float64\n"
     ]
    }
   ],
   "source": [
    "mydata = (3,5,3,65,64,64, 65, 643, 546, 546, 544)\n",
    "stationarity_test(mydata)"
   ]
  }
 ],
 "metadata": {
  "kernelspec": {
   "display_name": "Python 3",
   "language": "python",
   "name": "python3"
  },
  "language_info": {
   "codemirror_mode": {
    "name": "ipython",
    "version": 3
   },
   "file_extension": ".py",
   "mimetype": "text/x-python",
   "name": "python",
   "nbconvert_exporter": "python",
   "pygments_lexer": "ipython3",
   "version": "3.7.4"
  }
 },
 "nbformat": 4,
 "nbformat_minor": 2
}
