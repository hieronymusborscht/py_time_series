{
 "cells": [
  {
   "cell_type": "code",
   "execution_count": null,
   "metadata": {},
   "outputs": [],
   "source": [
    "def stationarity_test(timeseries):\n",
    "    \"\"\"\"\"Augmented Dickey-Fuller Test\n",
    "    Test for Stationarity\"\"\"\n",
    "    from statsmodels.tsa.stattools import adfuller\n",
    "    print(\"Results of Dickey-Fuller Test:\")\n",
    "    df_test =adfuller(timeseries, autolag = \"AIC\")\n",
    "    df_output = pd.Series(df_test[0:4],\n",
    "                       index =[\"Test Satistic\", \"p-value\",\"#Lags Used\",\"Number of Observations Used\"])\n",
    "    print(df_output)"
   ]
  }
 ],
 "metadata": {
  "kernelspec": {
   "display_name": "Python 3",
   "language": "python",
   "name": "python3"
  },
  "language_info": {
   "codemirror_mode": {
    "name": "ipython",
    "version": 3
   },
   "file_extension": ".py",
   "mimetype": "text/x-python",
   "name": "python",
   "nbconvert_exporter": "python",
   "pygments_lexer": "ipython3",
   "version": "3.7.4"
  }
 },
 "nbformat": 4,
 "nbformat_minor": 2
}
